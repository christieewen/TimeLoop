{
 "metadata": {
  "name": "",
  "signature": "sha256:ca4567a81a15b753eb63d3bedb42f8f10bee3d10b35de4f45a03181fefe4f459"
 },
 "nbformat": 3,
 "nbformat_minor": 0,
 "worksheets": [
  {
   "cells": [
    {
     "cell_type": "markdown",
     "metadata": {},
     "source": [
      "##Time Loop Logic"
     ]
    },
    {
     "cell_type": "markdown",
     "metadata": {},
     "source": [
      "A program exploiting time loop logic can be quite simple in outline. For example, to compute one prime factor of the natural number N in polynomial time (no polynomial time factorization algorithm is known in traditional complexity theory; see integer factorization):\n",
      "\n",
      "If N is 0 or 1, abort.\n",
      "Allocate a communication channel c.\n",
      "Receive one prime factor, F, of N from the future on channel c.\n",
      "Test that F \u2260 N, that F divides N (time complexity O(log N)), and that F is prime (polynomial time; see AKS primality test).\n",
      "If so, send F backwards in time on channel c.\n",
      "If not, send F + 1 backwards in time on channel c. Note that this results in a paradox, as the number received in step 3 above is not the same as that sent in this step.\n",
      "http://en.wikipedia.org/wiki/Novikov_self-consistency_principle#Time_loop_logic"
     ]
    },
    {
     "cell_type": "code",
     "collapsed": false,
     "input": [
      "import numpy as np"
     ],
     "language": "python",
     "metadata": {},
     "outputs": [],
     "prompt_number": 3
    },
    {
     "cell_type": "markdown",
     "metadata": {},
     "source": [
      "How to define a communication channel? Can we implement it as a \"deque\""
     ]
    },
    {
     "cell_type": "code",
     "collapsed": false,
     "input": [
      "from collections import deque"
     ],
     "language": "python",
     "metadata": {},
     "outputs": [],
     "prompt_number": 14
    },
    {
     "cell_type": "code",
     "collapsed": false,
     "input": [
      "def allocate_communication_channel(c):\n",
      "    c = deque()\n",
      "    return c"
     ],
     "language": "python",
     "metadata": {},
     "outputs": [],
     "prompt_number": 15
    },
    {
     "cell_type": "code",
     "collapsed": false,
     "input": [
      "def send(x, c, direction = 1):\n",
      "    # @param x : the value to be sent into the comm channel\n",
      "    # @param c : The channel itself\n",
      "    # @param direction : 0 - backward, 1 - forward\n",
      "    \n",
      "    \n",
      "\n",
      "\n",
      "def send_forward(x):\n",
      "    pass\n",
      "\n",
      "def send_backward(x):\n",
      "    pass"
     ],
     "language": "python",
     "metadata": {},
     "outputs": [],
     "prompt_number": 5
    },
    {
     "cell_type": "code",
     "collapsed": false,
     "input": [
      "def is_prime(x):\n",
      "    if x == 0 | x == 1:\n",
      "        return False\n",
      "\n",
      "    root_x = int(np.floor(np.sqrt(x)))\n",
      "    for i in range(2, root_x):\n",
      "        if x % i == 0:\n",
      "            return False\n",
      "    return True\n",
      "        "
     ],
     "language": "python",
     "metadata": {},
     "outputs": [],
     "prompt_number": 10
    },
    {
     "cell_type": "code",
     "collapsed": false,
     "input": [
      "print \"31: \", is_prime(31)\n",
      "print \"32: \", is_prime(32)\n",
      "print \"457: \", is_prime(457)"
     ],
     "language": "python",
     "metadata": {},
     "outputs": [
      {
       "output_type": "stream",
       "stream": "stdout",
       "text": [
        "31:  True\n",
        "32:  False\n",
        "457:  True\n"
       ]
      }
     ],
     "prompt_number": 13
    },
    {
     "cell_type": "code",
     "collapsed": false,
     "input": [],
     "language": "python",
     "metadata": {},
     "outputs": []
    }
   ],
   "metadata": {}
  }
 ]
}